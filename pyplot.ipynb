{
 "cells": [
  {
   "cell_type": "markdown",
   "metadata": {},
   "source": [
    "# Web Mining and Applied NLP (44-620)\n",
    "\n",
    "## Matplotlib and pyplot\n",
    "\n",
    "## Student Name: Adrian Vega\n",
    "## GitHub Repository: https://github.com/adriacv17/pyplot\n",
    "\n",
    "\n",
    "Perform the tasks described in the Markdown cells below.  When you have completed the assignment make sure your code cells have all been run (and have output beneath them) and ensure you have committed and pushed ALL of your changes to your assignment repository.\n",
    "\n",
    "Every question that requires you to write code will have a code cell underneath it; you may either write your entire solution in that cell or write it in a python file (`.py`), then import and run the appropriate code to answer the question.\n",
    "\n",
    "Do not use other external modules except `matplotlib` and `pyplot` (e.g. `math`, etc) for this assignment unless you are explicitly instructed to, though you may use built in python functions (`min`, `max`, etc) as you wish.\n",
    "\n",
    "For all of these questions, your plots must have an appropriate title and labeled axes.  Use the Matplotlib documentation as necessary to guide you through these exercises."
   ]
  },
  {
   "cell_type": "markdown",
   "metadata": {},
   "source": [
    "1. Given the text below, create a bar plot (or a horizontal bar plot) that shows the frequency distribution of characters in the string. \n",
    "A dictionary has been created for you containing the characters and the frequencies of the characters.\n",
    "Make sure your bar plot has the bars labelled correctly (with the character it represents the frequency of).\n"
   ]
  },
  {
   "cell_type": "code",
   "execution_count": 8,
   "metadata": {},
   "outputs": [
    {
     "name": "stdout",
     "output_type": "stream",
     "text": [
      "All prereqs installed.\n",
      "Package            Version\n",
      "------------------ -----------\n",
      "anyio              4.3.0\n",
      "appdirs            1.4.4\n",
      "asgiref            3.8.1\n",
      "asttokens          2.4.1\n",
      "beautifulsoup4     4.12.3\n",
      "certifi            2024.2.2\n",
      "charset-normalizer 3.3.2\n",
      "click              8.1.7\n",
      "colorama           0.4.6\n",
      "comm               0.2.2\n",
      "contourpy          1.2.1\n",
      "cycler             0.12.1\n",
      "debugpy            1.8.7\n",
      "decorator          5.1.1\n",
      "executing          2.0.1\n",
      "faicons            0.2.2\n",
      "favicon            0.7.0\n",
      "fonttools          4.51.0\n",
      "future             1.0.0\n",
      "h11                0.14.0\n",
      "htmltools          0.5.1\n",
      "idna               3.6\n",
      "ipykernel          6.29.5\n",
      "ipython            8.18.0\n",
      "ipywidgets         8.1.2\n",
      "jedi               0.19.1\n",
      "joblib             1.4.2\n",
      "jupyter_client     8.6.3\n",
      "jupyter_core       5.7.2\n",
      "jupyterlab_widgets 3.0.10\n",
      "kiwisolver         1.4.5\n",
      "linkify-it-py      2.0.3\n",
      "lzstring           1.0.4\n",
      "markdown-it-py     3.0.0\n",
      "matplotlib         3.8.4\n",
      "matplotlib-inline  0.1.6\n",
      "mdit-py-plugins    0.4.0\n",
      "mdurl              0.1.2\n",
      "nest-asyncio       1.6.0\n",
      "numpy              1.26.4\n",
      "packaging          24.0\n",
      "palmerpenguins     0.1.4\n",
      "pandas             2.2.2\n",
      "parso              0.8.3\n",
      "pillow             10.3.0\n",
      "pip                24.0\n",
      "platformdirs       4.2.0\n",
      "plotly             5.20.0\n",
      "prompt-toolkit     3.0.36\n",
      "psutil             6.1.0\n",
      "pure-eval          0.2.2\n",
      "pyarrow            15.0.2\n",
      "Pygments           2.17.2\n",
      "pyparsing          3.1.2\n",
      "python-dateutil    2.9.0.post0\n",
      "python-multipart   0.0.9\n",
      "pytz               2024.1\n",
      "pywin32            306\n",
      "pyzmq              26.2.0\n",
      "questionary        2.0.1\n",
      "requests           2.31.0\n",
      "scikit-learn       1.5.0\n",
      "scipy              1.13.0\n",
      "seaborn            0.13.2\n",
      "setuptools         69.5.1\n",
      "shiny              0.8.1\n",
      "shinylive          0.2.4\n",
      "shinywidgets       0.3.1\n",
      "six                1.16.0\n",
      "sniffio            1.3.1\n",
      "soupsieve          2.5\n",
      "stack-data         0.6.3\n",
      "starlette          0.37.2\n",
      "tenacity           8.2.3\n",
      "threadpoolctl      3.5.0\n",
      "tornado            6.4.1\n",
      "traitlets          5.14.2\n",
      "typing_extensions  4.10.0\n",
      "tzdata             2024.1\n",
      "uc-micro-py        1.0.3\n",
      "urllib3            2.2.1\n",
      "uvicorn            0.29.0\n",
      "watchfiles         0.21.0\n",
      "wcwidth            0.2.13\n",
      "websockets         12.0\n",
      "widgetsnbextension 4.0.10\n"
     ]
    },
    {
     "name": "stderr",
     "output_type": "stream",
     "text": [
      "\n",
      "[notice] A new release of pip is available: 24.0 -> 24.3.1\n",
      "[notice] To update, run: python.exe -m pip install --upgrade pip\n"
     ]
    },
    {
     "data": {
      "text/plain": [
       "<function matplotlib.pyplot.show(close=None, block=None)>"
      ]
     },
     "execution_count": 8,
     "metadata": {},
     "output_type": "execute_result"
    },
    {
     "data": {
      "image/png": "[encoded data removed]",
      "text/plain": [
       "<Figure size 700x500 with 1 Axes>"
      ]
     },
     "metadata": {},
     "output_type": "display_data"
    }
   ],
   "source": [
    "from collections import Counter\n",
    "# Create and activate a Python virtual environment. \n",
    "# Before starting the project, try all these imports FIRST\n",
    "# Address any errors you get running this code cell \n",
    "# by installing the necessary packages into your active Python environment.\n",
    "# Try to resolve issues using your materials and the web.\n",
    "# If that doesn't work, ask for help in the discussion forums.\n",
    "# You can't complete the exercises until you import these - start early! \n",
    "# We also import Counter and randint (included in the Python Standard Library).\n",
    "\n",
    "from random import randint\n",
    "import matplotlib.pyplot as plt\n",
    "\n",
    "print('All prereqs installed.')\n",
    "!pip list\n",
    "\n",
    "TEXT = \"At three o’clock precisely I was at Baker Street, but Holmes had not yet returned. The landlady informed me that he had left the house shortly after eight o’clock in the morning. I sat down beside the fire, however, with the intention of awaiting him, however long he might be. I was already deeply interested in his inquiry, for, though it was surrounded by none of the grim and strange features which were associated with the two crimes which I have already recorded, still, the nature of the case and the exalted station of his client gave it a character of its own. Indeed, apart from the nature of the investigation which my friend had on hand, there was something in his masterly grasp of a situation, and his keen, incisive reasoning, which made it a pleasure to me to study his system of work, and to follow the quick, subtle methods by which he disentangled the most inextricable mysteries. So accustomed was I to his invariable success that the very possibility of his failing had ceased to enter into my head.\".lower()\n",
    "letter_freq = dict(Counter(TEXT))\n",
    "\n",
    "# make a bar plot with an appropriate title, correct xtick labels, and labeled axes\n",
    "character = list(letter_freq.keys())\n",
    "frequency = list(letter_freq.values())\n",
    "\n",
    "fig = plt.figure(figsize = (7, 5))\n",
    "\n",
    "plt.bar(character, frequency, color ='blue', width = 0.7)\n",
    "plt.xlabel(\"Characters\")\n",
    "plt.ylabel(\"Frequency of Characters\")\n",
    "plt.title(\"Bar Chart of Character Distribution of Sentence\")\n",
    "\n",
    "plt.show"
   ]
  },
  {
   "cell_type": "markdown",
   "metadata": {},
   "source": [
    "2. Generate a sequence of at least 5 random numbers (integers are fine), and visualize the data using both `scatter` and `plot` on different axes.  You may use the index of the value as its x value in the plot."
   ]
  },
  {
   "cell_type": "code",
   "execution_count": null,
   "metadata": {},
   "outputs": [],
   "source": []
  },
  {
   "cell_type": "markdown",
   "metadata": {},
   "source": [
    "3. Do the same question as above, but change the syle and color of both the scatter and the plot."
   ]
  },
  {
   "cell_type": "code",
   "execution_count": null,
   "metadata": {},
   "outputs": [],
   "source": []
  },
  {
   "cell_type": "markdown",
   "metadata": {},
   "source": [
    "4. Given the data sets below, plot or scatter both on the same set of axes.  You are plotting the time it takes to execute a sorting algorithm on a list of a given size; your x axis should be the size, and the y axis is time.  Assume that `insertion_sort_times[i]` is how long it took to sort a list of length `sizes[i]`.  Add a legend to your plot showing which is insertion sort and which is merge sort.  Use the variable names to determine which data is which. "
   ]
  },
  {
   "cell_type": "code",
   "execution_count": null,
   "metadata": {},
   "outputs": [],
   "source": [
    "sizes = [10, 20, 50, 100, 1000, 5000]\n",
    "insertion_sort_times = [0.0010252999999999998, 0.0027026999999999954, 0.010147200000000002, 0.0381137, 3.6303399, 91.2180796]\n",
    "merge_sort_times = [0.00161889999999687, 0.003635600000009731, 0.0090655000000055, 0.020108000000007564, 0.2687474000000094, 1.6147050999999948]"
   ]
  }
 ],
 "metadata": {
  "kernelspec": {
   "display_name": "Python 3",
   "language": "python",
   "name": "python3"
  },
  "language_info": {
   "codemirror_mode": {
    "name": "ipython",
    "version": 3
   },
   "file_extension": ".py",
   "mimetype": "text/x-python",
   "name": "python",
   "nbconvert_exporter": "python",
   "pygments_lexer": "ipython3",
   "version": "3.12.2"
  }
 },
 "nbformat": 4,
 "nbformat_minor": 4
}
